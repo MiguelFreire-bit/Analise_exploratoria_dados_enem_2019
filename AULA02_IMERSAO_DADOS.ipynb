{
 "cells": [
  {
   "cell_type": "code",
   "execution_count": 1,
   "id": "c13f316e",
   "metadata": {},
   "outputs": [
    {
     "data": {
      "text/html": [
       "<div>\n",
       "<style scoped>\n",
       "    .dataframe tbody tr th:only-of-type {\n",
       "        vertical-align: middle;\n",
       "    }\n",
       "\n",
       "    .dataframe tbody tr th {\n",
       "        vertical-align: top;\n",
       "    }\n",
       "\n",
       "    .dataframe thead th {\n",
       "        text-align: right;\n",
       "    }\n",
       "</style>\n",
       "<table border=\"1\" class=\"dataframe\">\n",
       "  <thead>\n",
       "    <tr style=\"text-align: right;\">\n",
       "      <th></th>\n",
       "      <th>NU_INSCRICAO</th>\n",
       "      <th>NU_ANO</th>\n",
       "      <th>CO_MUNICIPIO_RESIDENCIA</th>\n",
       "      <th>NO_MUNICIPIO_RESIDENCIA</th>\n",
       "      <th>CO_UF_RESIDENCIA</th>\n",
       "      <th>SG_UF_RESIDENCIA</th>\n",
       "      <th>NU_IDADE</th>\n",
       "      <th>TP_SEXO</th>\n",
       "      <th>TP_ESTADO_CIVIL</th>\n",
       "      <th>TP_COR_RACA</th>\n",
       "      <th>...</th>\n",
       "      <th>Q016</th>\n",
       "      <th>Q017</th>\n",
       "      <th>Q018</th>\n",
       "      <th>Q019</th>\n",
       "      <th>Q020</th>\n",
       "      <th>Q021</th>\n",
       "      <th>Q022</th>\n",
       "      <th>Q023</th>\n",
       "      <th>Q024</th>\n",
       "      <th>Q025</th>\n",
       "    </tr>\n",
       "  </thead>\n",
       "  <tbody>\n",
       "    <tr>\n",
       "      <th>0</th>\n",
       "      <td>190001004661</td>\n",
       "      <td>2019</td>\n",
       "      <td>1506138</td>\n",
       "      <td>Redenção</td>\n",
       "      <td>15</td>\n",
       "      <td>PA</td>\n",
       "      <td>17</td>\n",
       "      <td>M</td>\n",
       "      <td>1</td>\n",
       "      <td>3</td>\n",
       "      <td>...</td>\n",
       "      <td>A</td>\n",
       "      <td>A</td>\n",
       "      <td>A</td>\n",
       "      <td>A</td>\n",
       "      <td>B</td>\n",
       "      <td>A</td>\n",
       "      <td>C</td>\n",
       "      <td>A</td>\n",
       "      <td>B</td>\n",
       "      <td>B</td>\n",
       "    </tr>\n",
       "    <tr>\n",
       "      <th>1</th>\n",
       "      <td>190001004674</td>\n",
       "      <td>2019</td>\n",
       "      <td>1504208</td>\n",
       "      <td>Marabá</td>\n",
       "      <td>15</td>\n",
       "      <td>PA</td>\n",
       "      <td>23</td>\n",
       "      <td>M</td>\n",
       "      <td>1</td>\n",
       "      <td>3</td>\n",
       "      <td>...</td>\n",
       "      <td>A</td>\n",
       "      <td>A</td>\n",
       "      <td>A</td>\n",
       "      <td>B</td>\n",
       "      <td>A</td>\n",
       "      <td>A</td>\n",
       "      <td>B</td>\n",
       "      <td>A</td>\n",
       "      <td>A</td>\n",
       "      <td>B</td>\n",
       "    </tr>\n",
       "    <tr>\n",
       "      <th>2</th>\n",
       "      <td>190001004722</td>\n",
       "      <td>2019</td>\n",
       "      <td>1501402</td>\n",
       "      <td>Belém</td>\n",
       "      <td>15</td>\n",
       "      <td>PA</td>\n",
       "      <td>35</td>\n",
       "      <td>F</td>\n",
       "      <td>2</td>\n",
       "      <td>1</td>\n",
       "      <td>...</td>\n",
       "      <td>A</td>\n",
       "      <td>A</td>\n",
       "      <td>A</td>\n",
       "      <td>B</td>\n",
       "      <td>A</td>\n",
       "      <td>B</td>\n",
       "      <td>B</td>\n",
       "      <td>A</td>\n",
       "      <td>A</td>\n",
       "      <td>B</td>\n",
       "    </tr>\n",
       "    <tr>\n",
       "      <th>3</th>\n",
       "      <td>190001004735</td>\n",
       "      <td>2019</td>\n",
       "      <td>1507300</td>\n",
       "      <td>São Félix do Xingu</td>\n",
       "      <td>15</td>\n",
       "      <td>PA</td>\n",
       "      <td>23</td>\n",
       "      <td>F</td>\n",
       "      <td>1</td>\n",
       "      <td>3</td>\n",
       "      <td>...</td>\n",
       "      <td>A</td>\n",
       "      <td>A</td>\n",
       "      <td>A</td>\n",
       "      <td>B</td>\n",
       "      <td>A</td>\n",
       "      <td>A</td>\n",
       "      <td>B</td>\n",
       "      <td>A</td>\n",
       "      <td>A</td>\n",
       "      <td>B</td>\n",
       "    </tr>\n",
       "    <tr>\n",
       "      <th>4</th>\n",
       "      <td>190001004776</td>\n",
       "      <td>2019</td>\n",
       "      <td>1500800</td>\n",
       "      <td>Ananindeua</td>\n",
       "      <td>15</td>\n",
       "      <td>PA</td>\n",
       "      <td>16</td>\n",
       "      <td>F</td>\n",
       "      <td>1</td>\n",
       "      <td>3</td>\n",
       "      <td>...</td>\n",
       "      <td>A</td>\n",
       "      <td>A</td>\n",
       "      <td>A</td>\n",
       "      <td>B</td>\n",
       "      <td>A</td>\n",
       "      <td>A</td>\n",
       "      <td>D</td>\n",
       "      <td>A</td>\n",
       "      <td>A</td>\n",
       "      <td>B</td>\n",
       "    </tr>\n",
       "  </tbody>\n",
       "</table>\n",
       "<p>5 rows × 136 columns</p>\n",
       "</div>"
      ],
      "text/plain": [
       "   NU_INSCRICAO  NU_ANO  CO_MUNICIPIO_RESIDENCIA NO_MUNICIPIO_RESIDENCIA  \\\n",
       "0  190001004661    2019                  1506138                Redenção   \n",
       "1  190001004674    2019                  1504208                  Marabá   \n",
       "2  190001004722    2019                  1501402                   Belém   \n",
       "3  190001004735    2019                  1507300      São Félix do Xingu   \n",
       "4  190001004776    2019                  1500800              Ananindeua   \n",
       "\n",
       "   CO_UF_RESIDENCIA SG_UF_RESIDENCIA  NU_IDADE TP_SEXO  TP_ESTADO_CIVIL  \\\n",
       "0                15               PA        17       M                1   \n",
       "1                15               PA        23       M                1   \n",
       "2                15               PA        35       F                2   \n",
       "3                15               PA        23       F                1   \n",
       "4                15               PA        16       F                1   \n",
       "\n",
       "   TP_COR_RACA  ...  Q016  Q017 Q018  Q019 Q020  Q021  Q022  Q023  Q024  Q025  \n",
       "0            3  ...     A     A    A     A    B     A     C     A     B     B  \n",
       "1            3  ...     A     A    A     B    A     A     B     A     A     B  \n",
       "2            1  ...     A     A    A     B    A     B     B     A     A     B  \n",
       "3            3  ...     A     A    A     B    A     A     B     A     A     B  \n",
       "4            3  ...     A     A    A     B    A     A     D     A     A     B  \n",
       "\n",
       "[5 rows x 136 columns]"
      ]
     },
     "execution_count": 1,
     "metadata": {},
     "output_type": "execute_result"
    }
   ],
   "source": [
    "import pandas as pd\n",
    "\n",
    "dados = pd.read_csv('MICRODADOS_ENEM_2019_SAMPLE_43278.csv')\n",
    "dados.head(5)"
   ]
  },
  {
   "cell_type": "code",
   "execution_count": 2,
   "id": "c02e02f5",
   "metadata": {},
   "outputs": [
    {
     "data": {
      "text/plain": [
       "(127380, 136)"
      ]
     },
     "execution_count": 2,
     "metadata": {},
     "output_type": "execute_result"
    }
   ],
   "source": [
    "dados.shape"
   ]
  },
  {
   "cell_type": "code",
   "execution_count": 3,
   "id": "463b46d0",
   "metadata": {},
   "outputs": [
    {
     "data": {
      "text/plain": [
       "0         PA\n",
       "1         PA\n",
       "2         PA\n",
       "3         PA\n",
       "4         PA\n",
       "          ..\n",
       "127375    MG\n",
       "127376    BA\n",
       "127377    BA\n",
       "127378    BA\n",
       "127379    MG\n",
       "Name: SG_UF_RESIDENCIA, Length: 127380, dtype: object"
      ]
     },
     "execution_count": 3,
     "metadata": {},
     "output_type": "execute_result"
    }
   ],
   "source": [
    "dados[\"SG_UF_RESIDENCIA\"]"
   ]
  },
  {
   "cell_type": "code",
   "execution_count": 4,
   "id": "9dfbebfd",
   "metadata": {},
   "outputs": [
    {
     "data": {
      "text/plain": [
       "array(['NU_INSCRICAO', 'NU_ANO', 'CO_MUNICIPIO_RESIDENCIA',\n",
       "       'NO_MUNICIPIO_RESIDENCIA', 'CO_UF_RESIDENCIA', 'SG_UF_RESIDENCIA',\n",
       "       'NU_IDADE', 'TP_SEXO', 'TP_ESTADO_CIVIL', 'TP_COR_RACA',\n",
       "       'TP_NACIONALIDADE', 'CO_MUNICIPIO_NASCIMENTO',\n",
       "       'NO_MUNICIPIO_NASCIMENTO', 'CO_UF_NASCIMENTO', 'SG_UF_NASCIMENTO',\n",
       "       'TP_ST_CONCLUSAO', 'TP_ANO_CONCLUIU', 'TP_ESCOLA', 'TP_ENSINO',\n",
       "       'IN_TREINEIRO', 'CO_ESCOLA', 'CO_MUNICIPIO_ESC',\n",
       "       'NO_MUNICIPIO_ESC', 'CO_UF_ESC', 'SG_UF_ESC',\n",
       "       'TP_DEPENDENCIA_ADM_ESC', 'TP_LOCALIZACAO_ESC', 'TP_SIT_FUNC_ESC',\n",
       "       'IN_BAIXA_VISAO', 'IN_CEGUEIRA', 'IN_SURDEZ',\n",
       "       'IN_DEFICIENCIA_AUDITIVA', 'IN_SURDO_CEGUEIRA',\n",
       "       'IN_DEFICIENCIA_FISICA', 'IN_DEFICIENCIA_MENTAL',\n",
       "       'IN_DEFICIT_ATENCAO', 'IN_DISLEXIA', 'IN_DISCALCULIA',\n",
       "       'IN_AUTISMO', 'IN_VISAO_MONOCULAR', 'IN_OUTRA_DEF', 'IN_GESTANTE',\n",
       "       'IN_LACTANTE', 'IN_IDOSO', 'IN_ESTUDA_CLASSE_HOSPITALAR',\n",
       "       'IN_SEM_RECURSO', 'IN_BRAILLE', 'IN_AMPLIADA_24', 'IN_AMPLIADA_18',\n",
       "       'IN_LEDOR', 'IN_ACESSO', 'IN_TRANSCRICAO', 'IN_LIBRAS',\n",
       "       'IN_TEMPO_ADICIONAL', 'IN_LEITURA_LABIAL', 'IN_MESA_CADEIRA_RODAS',\n",
       "       'IN_MESA_CADEIRA_SEPARADA', 'IN_APOIO_PERNA', 'IN_GUIA_INTERPRETE',\n",
       "       'IN_COMPUTADOR', 'IN_CADEIRA_ESPECIAL', 'IN_CADEIRA_CANHOTO',\n",
       "       'IN_CADEIRA_ACOLCHOADA', 'IN_PROVA_DEITADO', 'IN_MOBILIARIO_OBESO',\n",
       "       'IN_LAMINA_OVERLAY', 'IN_PROTETOR_AURICULAR', 'IN_MEDIDOR_GLICOSE',\n",
       "       'IN_MAQUINA_BRAILE', 'IN_SOROBAN', 'IN_MARCA_PASSO', 'IN_SONDA',\n",
       "       'IN_MEDICAMENTOS', 'IN_SALA_INDIVIDUAL', 'IN_SALA_ESPECIAL',\n",
       "       'IN_SALA_ACOMPANHANTE', 'IN_MOBILIARIO_ESPECIFICO',\n",
       "       'IN_MATERIAL_ESPECIFICO', 'IN_NOME_SOCIAL', 'CO_MUNICIPIO_PROVA',\n",
       "       'NO_MUNICIPIO_PROVA', 'CO_UF_PROVA', 'SG_UF_PROVA',\n",
       "       'TP_PRESENCA_CN', 'TP_PRESENCA_CH', 'TP_PRESENCA_LC',\n",
       "       'TP_PRESENCA_MT', 'CO_PROVA_CN', 'CO_PROVA_CH', 'CO_PROVA_LC',\n",
       "       'CO_PROVA_MT', 'NU_NOTA_CN', 'NU_NOTA_CH', 'NU_NOTA_LC',\n",
       "       'NU_NOTA_MT', 'TX_RESPOSTAS_CN', 'TX_RESPOSTAS_CH',\n",
       "       'TX_RESPOSTAS_LC', 'TX_RESPOSTAS_MT', 'TP_LINGUA',\n",
       "       'TX_GABARITO_CN', 'TX_GABARITO_CH', 'TX_GABARITO_LC',\n",
       "       'TX_GABARITO_MT', 'TP_STATUS_REDACAO', 'NU_NOTA_COMP1',\n",
       "       'NU_NOTA_COMP2', 'NU_NOTA_COMP3', 'NU_NOTA_COMP4', 'NU_NOTA_COMP5',\n",
       "       'NU_NOTA_REDACAO', 'Q001', 'Q002', 'Q003', 'Q004', 'Q005', 'Q006',\n",
       "       'Q007', 'Q008', 'Q009', 'Q010', 'Q011', 'Q012', 'Q013', 'Q014',\n",
       "       'Q015', 'Q016', 'Q017', 'Q018', 'Q019', 'Q020', 'Q021', 'Q022',\n",
       "       'Q023', 'Q024', 'Q025'], dtype=object)"
      ]
     },
     "execution_count": 4,
     "metadata": {},
     "output_type": "execute_result"
    }
   ],
   "source": [
    "dados.columns.values"
   ]
  },
  {
   "cell_type": "code",
   "execution_count": 5,
   "id": "737c2122",
   "metadata": {},
   "outputs": [
    {
     "data": {
      "text/html": [
       "<div>\n",
       "<style scoped>\n",
       "    .dataframe tbody tr th:only-of-type {\n",
       "        vertical-align: middle;\n",
       "    }\n",
       "\n",
       "    .dataframe tbody tr th {\n",
       "        vertical-align: top;\n",
       "    }\n",
       "\n",
       "    .dataframe thead th {\n",
       "        text-align: right;\n",
       "    }\n",
       "</style>\n",
       "<table border=\"1\" class=\"dataframe\">\n",
       "  <thead>\n",
       "    <tr style=\"text-align: right;\">\n",
       "      <th></th>\n",
       "      <th>SG_UF_RESIDENCIA</th>\n",
       "      <th>Q025</th>\n",
       "    </tr>\n",
       "  </thead>\n",
       "  <tbody>\n",
       "    <tr>\n",
       "      <th>0</th>\n",
       "      <td>PA</td>\n",
       "      <td>B</td>\n",
       "    </tr>\n",
       "    <tr>\n",
       "      <th>1</th>\n",
       "      <td>PA</td>\n",
       "      <td>B</td>\n",
       "    </tr>\n",
       "    <tr>\n",
       "      <th>2</th>\n",
       "      <td>PA</td>\n",
       "      <td>B</td>\n",
       "    </tr>\n",
       "    <tr>\n",
       "      <th>3</th>\n",
       "      <td>PA</td>\n",
       "      <td>B</td>\n",
       "    </tr>\n",
       "    <tr>\n",
       "      <th>4</th>\n",
       "      <td>PA</td>\n",
       "      <td>B</td>\n",
       "    </tr>\n",
       "    <tr>\n",
       "      <th>...</th>\n",
       "      <td>...</td>\n",
       "      <td>...</td>\n",
       "    </tr>\n",
       "    <tr>\n",
       "      <th>127375</th>\n",
       "      <td>MG</td>\n",
       "      <td>B</td>\n",
       "    </tr>\n",
       "    <tr>\n",
       "      <th>127376</th>\n",
       "      <td>BA</td>\n",
       "      <td>B</td>\n",
       "    </tr>\n",
       "    <tr>\n",
       "      <th>127377</th>\n",
       "      <td>BA</td>\n",
       "      <td>B</td>\n",
       "    </tr>\n",
       "    <tr>\n",
       "      <th>127378</th>\n",
       "      <td>BA</td>\n",
       "      <td>A</td>\n",
       "    </tr>\n",
       "    <tr>\n",
       "      <th>127379</th>\n",
       "      <td>MG</td>\n",
       "      <td>B</td>\n",
       "    </tr>\n",
       "  </tbody>\n",
       "</table>\n",
       "<p>127380 rows × 2 columns</p>\n",
       "</div>"
      ],
      "text/plain": [
       "       SG_UF_RESIDENCIA Q025\n",
       "0                    PA    B\n",
       "1                    PA    B\n",
       "2                    PA    B\n",
       "3                    PA    B\n",
       "4                    PA    B\n",
       "...                 ...  ...\n",
       "127375               MG    B\n",
       "127376               BA    B\n",
       "127377               BA    B\n",
       "127378               BA    A\n",
       "127379               MG    B\n",
       "\n",
       "[127380 rows x 2 columns]"
      ]
     },
     "execution_count": 5,
     "metadata": {},
     "output_type": "execute_result"
    }
   ],
   "source": [
    "dados[[\"SG_UF_RESIDENCIA\", \"Q025\"]]"
   ]
  },
  {
   "cell_type": "code",
   "execution_count": 6,
   "id": "718414e3",
   "metadata": {},
   "outputs": [
    {
     "data": {
      "text/plain": [
       "0         PA\n",
       "1         PA\n",
       "2         PA\n",
       "3         PA\n",
       "4         PA\n",
       "          ..\n",
       "127375    MG\n",
       "127376    BA\n",
       "127377    BA\n",
       "127378    BA\n",
       "127379    MG\n",
       "Name: SG_UF_RESIDENCIA, Length: 127380, dtype: object"
      ]
     },
     "execution_count": 6,
     "metadata": {},
     "output_type": "execute_result"
    }
   ],
   "source": [
    "dados[\"SG_UF_RESIDENCIA\"]"
   ]
  },
  {
   "cell_type": "code",
   "execution_count": 7,
   "id": "8e95eca2",
   "metadata": {},
   "outputs": [
    {
     "data": {
      "text/plain": [
       "array(['PA', 'RO', 'MT', 'AC', 'AM', 'RR', 'MA', 'PR', 'BA', 'PI', 'CE',\n",
       "       'PE', 'AP', 'TO', 'SC', 'GO', 'MG', 'SP', 'SE', 'RJ', 'PB', 'AL',\n",
       "       'RN', 'ES', 'DF', 'RS', 'MS'], dtype=object)"
      ]
     },
     "execution_count": 7,
     "metadata": {},
     "output_type": "execute_result"
    }
   ],
   "source": [
    "dados[\"SG_UF_RESIDENCIA\"].unique()"
   ]
  },
  {
   "cell_type": "code",
   "execution_count": 8,
   "id": "4ba60b9c",
   "metadata": {},
   "outputs": [
    {
     "data": {
      "text/plain": [
       "27"
      ]
     },
     "execution_count": 8,
     "metadata": {},
     "output_type": "execute_result"
    }
   ],
   "source": [
    "len(dados[\"SG_UF_RESIDENCIA\"].unique())"
   ]
  },
  {
   "cell_type": "code",
   "execution_count": 9,
   "id": "b42111eb",
   "metadata": {},
   "outputs": [
    {
     "data": {
      "text/plain": [
       "SP    20264\n",
       "MG    13547\n",
       "BA    10040\n",
       "RJ     8467\n",
       "CE     7381\n",
       "PA     7170\n",
       "PE     6941\n",
       "MA     5543\n",
       "RS     5466\n",
       "PR     5259\n",
       "GO     4268\n",
       "PB     3690\n",
       "PI     3034\n",
       "RN     2959\n",
       "AM     2820\n",
       "SC     2673\n",
       "ES     2550\n",
       "DF     2408\n",
       "AL     2263\n",
       "MT     2230\n",
       "SE     1815\n",
       "MS     1655\n",
       "RO     1400\n",
       "TO     1178\n",
       "AP     1047\n",
       "AC      946\n",
       "RR      366\n",
       "Name: SG_UF_RESIDENCIA, dtype: int64"
      ]
     },
     "execution_count": 9,
     "metadata": {},
     "output_type": "execute_result"
    }
   ],
   "source": [
    "dados[\"SG_UF_RESIDENCIA\"].value_counts()"
   ]
  },
  {
   "cell_type": "code",
   "execution_count": 10,
   "id": "9963c918",
   "metadata": {},
   "outputs": [
    {
     "data": {
      "text/plain": [
       "18    21452\n",
       "17    21256\n",
       "19    14418\n",
       "20    10413\n",
       "16     7830\n",
       "      ...  \n",
       "73        2\n",
       "75        2\n",
       "77        1\n",
       "82        1\n",
       "76        1\n",
       "Name: NU_IDADE, Length: 65, dtype: int64"
      ]
     },
     "execution_count": 10,
     "metadata": {},
     "output_type": "execute_result"
    }
   ],
   "source": [
    "dados[\"NU_IDADE\"].value_counts()"
   ]
  },
  {
   "cell_type": "code",
   "execution_count": 11,
   "id": "6848637d",
   "metadata": {},
   "outputs": [
    {
     "data": {
      "text/plain": [
       "13        4\n",
       "14      141\n",
       "15     2009\n",
       "16     7830\n",
       "17    21256\n",
       "      ...  \n",
       "73        2\n",
       "75        2\n",
       "76        1\n",
       "77        1\n",
       "82        1\n",
       "Name: NU_IDADE, Length: 65, dtype: int64"
      ]
     },
     "execution_count": 11,
     "metadata": {},
     "output_type": "execute_result"
    }
   ],
   "source": [
    "dados[\"NU_IDADE\"].value_counts().sort_index()"
   ]
  },
  {
   "cell_type": "code",
   "execution_count": 12,
   "id": "64b81dfd",
   "metadata": {},
   "outputs": [
    {
     "name": "stdout",
     "output_type": "stream",
     "text": [
      "18    16.84\n",
      "17    16.69\n",
      "19    11.32\n",
      "20     8.17\n",
      "16     6.15\n",
      "21     5.70\n",
      "Name: NU_IDADE, dtype: float64\n"
     ]
    },
    {
     "data": {
      "text/plain": [
       "array(['SP', 'MT', 'AP', 'BA'], dtype=object)"
      ]
     },
     "execution_count": 12,
     "metadata": {},
     "output_type": "execute_result"
    }
   ],
   "source": [
    "#desafio01: % dos inscritos por idade\n",
    "print(round(dados[\"NU_IDADE\"].value_counts(normalize = True).head(6) *100, 2))\n",
    "\n",
    "#desafio02: estado dos inscritos de 13 anos\n",
    "dados.query('NU_IDADE == 13')['SG_UF_RESIDENCIA'].unique()"
   ]
  },
  {
   "cell_type": "code",
   "execution_count": 13,
   "id": "fa8d5140",
   "metadata": {},
   "outputs": [
    {
     "data": {
      "text/plain": [
       "<AxesSubplot:>"
      ]
     },
     "execution_count": 13,
     "metadata": {},
     "output_type": "execute_result"
    },
    {
     "data": {
      "image/png": "[encoded data removed]",
      "text/plain": [
       "<Figure size 432x288 with 1 Axes>"
      ]
     },
     "metadata": {
      "needs_background": "light"
     },
     "output_type": "display_data"
    }
   ],
   "source": [
    "dados[\"NU_IDADE\"].hist()"
   ]
  },
  {
   "cell_type": "code",
   "execution_count": 14,
   "id": "b63d4b5a",
   "metadata": {},
   "outputs": [
    {
     "data": {
      "text/plain": [
       "<AxesSubplot:title={'center':'Distribuição de Frequências - Idade'}>"
      ]
     },
     "execution_count": 14,
     "metadata": {},
     "output_type": "execute_result"
    },
    {
     "data": {
      "image/png": "[encoded data removed]",
      "text/plain": [
       "<Figure size 720x576 with 1 Axes>"
      ]
     },
     "metadata": {
      "needs_background": "light"
     },
     "output_type": "display_data"
    }
   ],
   "source": [
    "histograma = dados[\"NU_IDADE\"].hist(bins = 20, figsize = (10,8))\n",
    "\n",
    "#desafio03: colocar título nessa imagem\n",
    "histograma.set_title('Distribuição de Frequências - Idade', fontsize=18)\n",
    "histograma"
   ]
  },
  {
   "cell_type": "code",
   "execution_count": 15,
   "id": "28042557",
   "metadata": {},
   "outputs": [
    {
     "data": {
      "image/png": "[encoded data removed]",
      "text/plain": [
       "<Figure size 864x576 with 2 Axes>"
      ]
     },
     "metadata": {
      "needs_background": "light"
     },
     "output_type": "display_data"
    }
   ],
   "source": [
    "dados.query(\"IN_TREINEIRO == 1\")[\"NU_IDADE\"].value_counts().sort_index()\n",
    "\n",
    "#desafio04; fazer histograma para quem é treineiro e quem não é treineiro\n",
    "#Código sugerido peloChatGPT\n",
    "\n",
    "import matplotlib.pyplot as plt\n",
    "\n",
    "# criação dos subplots\n",
    "fig, axs = plt.subplots(nrows=2, figsize=(12,8))\n",
    "\n",
    "# plotagem dos gráficos\n",
    "dados.query(\"IN_TREINEIRO == 1\")[\"NU_IDADE\"].plot(kind=\"hist\", bins=50, ax=axs[0], xlim=(0, 80))\n",
    "axs[0].set_title(\"Histograma - Treineiros\")\n",
    "\n",
    "dados.query(\"IN_TREINEIRO == 0\")[\"NU_IDADE\"].plot(kind=\"hist\", bins=50, ax=axs[1], xlim=(0, 80))\n",
    "axs[1].set_title(\"Histograma - Não treineiros\")\n",
    "\n",
    "# exibição dos gráficos\n",
    "plt.show()\n"
   ]
  },
  {
   "cell_type": "code",
   "execution_count": 16,
   "id": "07dc9ca9",
   "metadata": {},
   "outputs": [
    {
     "data": {
      "text/plain": [
       "<AxesSubplot:>"
      ]
     },
     "execution_count": 16,
     "metadata": {},
     "output_type": "execute_result"
    },
    {
     "data": {
      "image/png": "[encoded data removed]",
      "text/plain": [
       "<Figure size 576x432 with 1 Axes>"
      ]
     },
     "metadata": {
      "needs_background": "light"
     },
     "output_type": "display_data"
    }
   ],
   "source": [
    "dados[\"NU_NOTA_REDACAO\"].hist(bins = 20, figsize=(8, 6))"
   ]
  },
  {
   "cell_type": "code",
   "execution_count": 17,
   "id": "79bba138",
   "metadata": {},
   "outputs": [
    {
     "data": {
      "text/plain": [
       "<AxesSubplot:>"
      ]
     },
     "execution_count": 17,
     "metadata": {},
     "output_type": "execute_result"
    },
    {
     "data": {
      "image/png": "[encoded data removed]",
      "text/plain": [
       "<Figure size 576x432 with 1 Axes>"
      ]
     },
     "metadata": {
      "needs_background": "light"
     },
     "output_type": "display_data"
    }
   ],
   "source": [
    "dados[\"NU_NOTA_LC\"].hist(bins = 20, figsize=(8, 6))"
   ]
  },
  {
   "cell_type": "code",
   "execution_count": 18,
   "id": "a16c753f",
   "metadata": {},
   "outputs": [
    {
     "data": {
      "text/plain": [
       "571.5700253970197"
      ]
     },
     "execution_count": 18,
     "metadata": {},
     "output_type": "execute_result"
    }
   ],
   "source": [
    "dados[\"NU_NOTA_REDACAO\"].mean()"
   ]
  },
  {
   "cell_type": "code",
   "execution_count": 19,
   "id": "1f9afa13",
   "metadata": {},
   "outputs": [
    {
     "data": {
      "text/plain": [
       "188.07645455749753"
      ]
     },
     "execution_count": 19,
     "metadata": {},
     "output_type": "execute_result"
    }
   ],
   "source": [
    "dados[\"NU_NOTA_REDACAO\"].std()"
   ]
  },
  {
   "cell_type": "code",
   "execution_count": 20,
   "id": "398f57ea",
   "metadata": {},
   "outputs": [
    {
     "data": {
      "text/html": [
       "<div>\n",
       "<style scoped>\n",
       "    .dataframe tbody tr th:only-of-type {\n",
       "        vertical-align: middle;\n",
       "    }\n",
       "\n",
       "    .dataframe tbody tr th {\n",
       "        vertical-align: top;\n",
       "    }\n",
       "\n",
       "    .dataframe thead th {\n",
       "        text-align: right;\n",
       "    }\n",
       "</style>\n",
       "<table border=\"1\" class=\"dataframe\">\n",
       "  <thead>\n",
       "    <tr style=\"text-align: right;\">\n",
       "      <th></th>\n",
       "      <th>NU_NOTA_CN</th>\n",
       "      <th>NU_NOTA_CH</th>\n",
       "      <th>NU_NOTA_MT</th>\n",
       "      <th>NU_NOTA_LC</th>\n",
       "      <th>NU_NOTA_REDACAO</th>\n",
       "    </tr>\n",
       "  </thead>\n",
       "  <tbody>\n",
       "    <tr>\n",
       "      <th>count</th>\n",
       "      <td>92758.000000</td>\n",
       "      <td>98043.000000</td>\n",
       "      <td>92758.000000</td>\n",
       "      <td>98043.000000</td>\n",
       "      <td>98043.000000</td>\n",
       "    </tr>\n",
       "    <tr>\n",
       "      <th>mean</th>\n",
       "      <td>477.964015</td>\n",
       "      <td>507.365912</td>\n",
       "      <td>523.555206</td>\n",
       "      <td>520.463928</td>\n",
       "      <td>571.570025</td>\n",
       "    </tr>\n",
       "    <tr>\n",
       "      <th>std</th>\n",
       "      <td>76.296099</td>\n",
       "      <td>82.972839</td>\n",
       "      <td>109.416939</td>\n",
       "      <td>64.556578</td>\n",
       "      <td>188.076455</td>\n",
       "    </tr>\n",
       "    <tr>\n",
       "      <th>min</th>\n",
       "      <td>0.000000</td>\n",
       "      <td>0.000000</td>\n",
       "      <td>0.000000</td>\n",
       "      <td>0.000000</td>\n",
       "      <td>0.000000</td>\n",
       "    </tr>\n",
       "    <tr>\n",
       "      <th>25%</th>\n",
       "      <td>418.000000</td>\n",
       "      <td>447.900000</td>\n",
       "      <td>435.300000</td>\n",
       "      <td>483.700000</td>\n",
       "      <td>480.000000</td>\n",
       "    </tr>\n",
       "    <tr>\n",
       "      <th>50%</th>\n",
       "      <td>470.200000</td>\n",
       "      <td>510.900000</td>\n",
       "      <td>501.600000</td>\n",
       "      <td>526.100000</td>\n",
       "      <td>580.000000</td>\n",
       "    </tr>\n",
       "    <tr>\n",
       "      <th>75%</th>\n",
       "      <td>533.300000</td>\n",
       "      <td>567.100000</td>\n",
       "      <td>598.200000</td>\n",
       "      <td>565.100000</td>\n",
       "      <td>680.000000</td>\n",
       "    </tr>\n",
       "    <tr>\n",
       "      <th>max</th>\n",
       "      <td>797.300000</td>\n",
       "      <td>809.400000</td>\n",
       "      <td>985.000000</td>\n",
       "      <td>801.700000</td>\n",
       "      <td>1000.000000</td>\n",
       "    </tr>\n",
       "  </tbody>\n",
       "</table>\n",
       "</div>"
      ],
      "text/plain": [
       "         NU_NOTA_CN    NU_NOTA_CH    NU_NOTA_MT    NU_NOTA_LC  NU_NOTA_REDACAO\n",
       "count  92758.000000  98043.000000  92758.000000  98043.000000     98043.000000\n",
       "mean     477.964015    507.365912    523.555206    520.463928       571.570025\n",
       "std       76.296099     82.972839    109.416939     64.556578       188.076455\n",
       "min        0.000000      0.000000      0.000000      0.000000         0.000000\n",
       "25%      418.000000    447.900000    435.300000    483.700000       480.000000\n",
       "50%      470.200000    510.900000    501.600000    526.100000       580.000000\n",
       "75%      533.300000    567.100000    598.200000    565.100000       680.000000\n",
       "max      797.300000    809.400000    985.000000    801.700000      1000.000000"
      ]
     },
     "execution_count": 20,
     "metadata": {},
     "output_type": "execute_result"
    }
   ],
   "source": [
    "provas = [\"NU_NOTA_CN\",\"NU_NOTA_CH\",\"NU_NOTA_MT\",\"NU_NOTA_LC\",\"NU_NOTA_REDACAO\"]\n",
    "\n",
    "dados[provas].describe()"
   ]
  },
  {
   "cell_type": "code",
   "execution_count": 21,
   "id": "2fe6586e",
   "metadata": {},
   "outputs": [
    {
     "data": {
      "text/plain": [
       "434.5"
      ]
     },
     "execution_count": 21,
     "metadata": {},
     "output_type": "execute_result"
    }
   ],
   "source": [
    "dados[\"NU_NOTA_LC\"].quantile(0.1)"
   ]
  },
  {
   "cell_type": "code",
   "execution_count": 22,
   "id": "09b56db3",
   "metadata": {},
   "outputs": [
    {
     "data": {
      "text/plain": [
       "<AxesSubplot:>"
      ]
     },
     "execution_count": 22,
     "metadata": {},
     "output_type": "execute_result"
    },
    {
     "data": {
      "image/png": "[encoded data removed]",
      "text/plain": [
       "<Figure size 576x432 with 1 Axes>"
      ]
     },
     "metadata": {
      "needs_background": "light"
     },
     "output_type": "display_data"
    }
   ],
   "source": [
    "dados[\"NU_NOTA_LC\"].plot.box(grid = True, figsize=(8,6))"
   ]
  },
  {
   "cell_type": "code",
   "execution_count": 23,
   "id": "54277ab7",
   "metadata": {},
   "outputs": [
    {
     "data": {
      "text/plain": [
       "<AxesSubplot:>"
      ]
     },
     "execution_count": 23,
     "metadata": {},
     "output_type": "execute_result"
    },
    {
     "data": {
      "image/png": "[encoded data removed]",
      "text/plain": [
       "<Figure size 720x576 with 1 Axes>"
      ]
     },
     "metadata": {
      "needs_background": "light"
     },
     "output_type": "display_data"
    }
   ],
   "source": [
    "dados[provas].boxplot(grid=True, figsize= (10,8))"
   ]
  },
  {
   "cell_type": "code",
   "execution_count": 24,
   "id": "643502b1",
   "metadata": {},
   "outputs": [
    {
     "data": {
      "image/png": "[encoded data removed]",
      "text/plain": [
       "<Figure size 864x576 with 2 Axes>"
      ]
     },
     "metadata": {
      "needs_background": "light"
     },
     "output_type": "display_data"
    }
   ],
   "source": [
    "#desafio05:Comparar as distribuições das provas em inglês espanhol\n",
    "\n",
    "# criação dos subplots\n",
    "fig, axs = plt.subplots(nrows = 2, figsize=(12,8))\n",
    "\n",
    "# plotagem dos gráficos\n",
    "\n",
    "dados.query(\"TP_LINGUA == 0\")['NU_NOTA_LC'].plot(kind=\"hist\", bins = 20, ax=axs[0], xlim=(0, 1000))\n",
    "axs[0].set_title(\"Histograma - Inglês\")\n",
    "\n",
    "dados.query(\"TP_LINGUA == 1\")['NU_NOTA_LC'].plot(kind=\"hist\", bins = 20, ax=axs[1], xlim=(0, 1000))\n",
    "axs[1].set_title(\"Histograma - Espanhol\")\n",
    "\n",
    "# exibição dos gráficos\n",
    "plt.show()"
   ]
  },
  {
   "cell_type": "code",
   "execution_count": 25,
   "id": "3c251466",
   "metadata": {},
   "outputs": [
    {
     "data": {
      "image/png": "[encoded data removed]",
      "text/plain": [
       "<Figure size 864x576 with 2 Axes>"
      ]
     },
     "metadata": {
      "needs_background": "light"
     },
     "output_type": "display_data"
    }
   ],
   "source": [
    "#desafio05:Comparar as distribuições das provas em inglês espanhol\n",
    "\n",
    "ingles = dados.query(\"TP_LINGUA == 0\")['NU_NOTA_LC']\n",
    "espanhol = dados.query(\"TP_LINGUA == 1\")['NU_NOTA_LC']\n",
    "\n",
    "# criação dos dataframes\n",
    "df_ingles = pd.DataFrame({'Inglês': ingles})\n",
    "df_espanhol = pd.DataFrame({'Espanhol': espanhol})\n",
    "\n",
    "# criação dos subplots\n",
    "fig, axs = plt.subplots(nrows=1, ncols=2, figsize=(12,8))\n",
    "\n",
    "# plotagem dos boxplots\n",
    "df_ingles.boxplot(ax=axs[0], grid=True)\n",
    "df_espanhol.boxplot(ax=axs[1], grid=True)\n",
    "\n",
    "# definindo limites do eixo y\n",
    "for ax in axs:\n",
    "    ax.set_ylim(0, 1000)\n",
    "    ax.set_ylabel(\"Nota\")\n",
    "\n",
    "# definição dos títulos dos subplots\n",
    "axs[0].set_title('Boxplot - Inglês')\n",
    "axs[1].set_title('Boxplot - Espanhol')\n",
    "\n",
    "# exibição dos boxplots\n",
    "plt.show()\n",
    "\n"
   ]
  },
  {
   "cell_type": "markdown",
   "id": "0c7cb95e",
   "metadata": {},
   "source": [
    "# AULA 2: ANÁLISE EXPLORATÓRIA DE DADOS"
   ]
  },
  {
   "cell_type": "code",
   "execution_count": 26,
   "id": "ee1580b0",
   "metadata": {},
   "outputs": [
    {
     "data": {
      "text/html": [
       "<div>\n",
       "<style scoped>\n",
       "    .dataframe tbody tr th:only-of-type {\n",
       "        vertical-align: middle;\n",
       "    }\n",
       "\n",
       "    .dataframe tbody tr th {\n",
       "        vertical-align: top;\n",
       "    }\n",
       "\n",
       "    .dataframe thead th {\n",
       "        text-align: right;\n",
       "    }\n",
       "</style>\n",
       "<table border=\"1\" class=\"dataframe\">\n",
       "  <thead>\n",
       "    <tr style=\"text-align: right;\">\n",
       "      <th></th>\n",
       "      <th>NU_INSCRICAO</th>\n",
       "      <th>NU_ANO</th>\n",
       "      <th>CO_MUNICIPIO_RESIDENCIA</th>\n",
       "      <th>NO_MUNICIPIO_RESIDENCIA</th>\n",
       "      <th>CO_UF_RESIDENCIA</th>\n",
       "      <th>SG_UF_RESIDENCIA</th>\n",
       "      <th>NU_IDADE</th>\n",
       "      <th>TP_SEXO</th>\n",
       "      <th>TP_ESTADO_CIVIL</th>\n",
       "      <th>TP_COR_RACA</th>\n",
       "      <th>...</th>\n",
       "      <th>Q016</th>\n",
       "      <th>Q017</th>\n",
       "      <th>Q018</th>\n",
       "      <th>Q019</th>\n",
       "      <th>Q020</th>\n",
       "      <th>Q021</th>\n",
       "      <th>Q022</th>\n",
       "      <th>Q023</th>\n",
       "      <th>Q024</th>\n",
       "      <th>Q025</th>\n",
       "    </tr>\n",
       "  </thead>\n",
       "  <tbody>\n",
       "    <tr>\n",
       "      <th>57359</th>\n",
       "      <td>190003297248</td>\n",
       "      <td>2019</td>\n",
       "      <td>3504107</td>\n",
       "      <td>Atibaia</td>\n",
       "      <td>35</td>\n",
       "      <td>SP</td>\n",
       "      <td>13</td>\n",
       "      <td>F</td>\n",
       "      <td>1</td>\n",
       "      <td>1</td>\n",
       "      <td>...</td>\n",
       "      <td>B</td>\n",
       "      <td>A</td>\n",
       "      <td>A</td>\n",
       "      <td>B</td>\n",
       "      <td>A</td>\n",
       "      <td>A</td>\n",
       "      <td>D</td>\n",
       "      <td>B</td>\n",
       "      <td>B</td>\n",
       "      <td>B</td>\n",
       "    </tr>\n",
       "    <tr>\n",
       "      <th>95630</th>\n",
       "      <td>190004825557</td>\n",
       "      <td>2019</td>\n",
       "      <td>5107602</td>\n",
       "      <td>Rondonópolis</td>\n",
       "      <td>51</td>\n",
       "      <td>MT</td>\n",
       "      <td>13</td>\n",
       "      <td>M</td>\n",
       "      <td>1</td>\n",
       "      <td>1</td>\n",
       "      <td>...</td>\n",
       "      <td>A</td>\n",
       "      <td>A</td>\n",
       "      <td>A</td>\n",
       "      <td>B</td>\n",
       "      <td>B</td>\n",
       "      <td>A</td>\n",
       "      <td>B</td>\n",
       "      <td>A</td>\n",
       "      <td>A</td>\n",
       "      <td>B</td>\n",
       "    </tr>\n",
       "    <tr>\n",
       "      <th>98197</th>\n",
       "      <td>190004926952</td>\n",
       "      <td>2019</td>\n",
       "      <td>1600303</td>\n",
       "      <td>Macapá</td>\n",
       "      <td>16</td>\n",
       "      <td>AP</td>\n",
       "      <td>13</td>\n",
       "      <td>M</td>\n",
       "      <td>1</td>\n",
       "      <td>3</td>\n",
       "      <td>...</td>\n",
       "      <td>B</td>\n",
       "      <td>A</td>\n",
       "      <td>A</td>\n",
       "      <td>C</td>\n",
       "      <td>B</td>\n",
       "      <td>A</td>\n",
       "      <td>E</td>\n",
       "      <td>A</td>\n",
       "      <td>B</td>\n",
       "      <td>B</td>\n",
       "    </tr>\n",
       "    <tr>\n",
       "      <th>116501</th>\n",
       "      <td>190005659236</td>\n",
       "      <td>2019</td>\n",
       "      <td>2917508</td>\n",
       "      <td>Jacobina</td>\n",
       "      <td>29</td>\n",
       "      <td>BA</td>\n",
       "      <td>13</td>\n",
       "      <td>M</td>\n",
       "      <td>1</td>\n",
       "      <td>3</td>\n",
       "      <td>...</td>\n",
       "      <td>B</td>\n",
       "      <td>A</td>\n",
       "      <td>A</td>\n",
       "      <td>D</td>\n",
       "      <td>A</td>\n",
       "      <td>B</td>\n",
       "      <td>C</td>\n",
       "      <td>B</td>\n",
       "      <td>C</td>\n",
       "      <td>B</td>\n",
       "    </tr>\n",
       "  </tbody>\n",
       "</table>\n",
       "<p>4 rows × 136 columns</p>\n",
       "</div>"
      ],
      "text/plain": [
       "        NU_INSCRICAO  NU_ANO  CO_MUNICIPIO_RESIDENCIA NO_MUNICIPIO_RESIDENCIA  \\\n",
       "57359   190003297248    2019                  3504107                 Atibaia   \n",
       "95630   190004825557    2019                  5107602            Rondonópolis   \n",
       "98197   190004926952    2019                  1600303                  Macapá   \n",
       "116501  190005659236    2019                  2917508                Jacobina   \n",
       "\n",
       "        CO_UF_RESIDENCIA SG_UF_RESIDENCIA  NU_IDADE TP_SEXO  TP_ESTADO_CIVIL  \\\n",
       "57359                 35               SP        13       F                1   \n",
       "95630                 51               MT        13       M                1   \n",
       "98197                 16               AP        13       M                1   \n",
       "116501                29               BA        13       M                1   \n",
       "\n",
       "        TP_COR_RACA  ...  Q016  Q017 Q018  Q019 Q020  Q021  Q022  Q023  Q024  \\\n",
       "57359             1  ...     B     A    A     B    A     A     D     B     B   \n",
       "95630             1  ...     A     A    A     B    B     A     B     A     A   \n",
       "98197             3  ...     B     A    A     C    B     A     E     A     B   \n",
       "116501            3  ...     B     A    A     D    A     B     C     B     C   \n",
       "\n",
       "        Q025  \n",
       "57359      B  \n",
       "95630      B  \n",
       "98197      B  \n",
       "116501     B  \n",
       "\n",
       "[4 rows x 136 columns]"
      ]
     },
     "execution_count": 26,
     "metadata": {},
     "output_type": "execute_result"
    }
   ],
   "source": [
    "dados.query(\"NU_IDADE == 13\")"
   ]
  },
  {
   "cell_type": "code",
   "execution_count": 27,
   "id": "cfe97fec",
   "metadata": {},
   "outputs": [
    {
     "data": {
      "text/plain": [
       "PE    18\n",
       "CE    15\n",
       "BA    14\n",
       "PA    12\n",
       "MG    11\n",
       "SP    11\n",
       "MA     9\n",
       "PI     7\n",
       "GO     7\n",
       "PB     7\n",
       "MT     4\n",
       "AM     4\n",
       "DF     4\n",
       "TO     3\n",
       "SE     3\n",
       "PR     3\n",
       "AL     2\n",
       "RO     2\n",
       "SC     2\n",
       "AP     1\n",
       "RN     1\n",
       "ES     1\n",
       "AC     1\n",
       "RS     1\n",
       "RJ     1\n",
       "MS     1\n",
       "Name: SG_UF_RESIDENCIA, dtype: int64"
      ]
     },
     "execution_count": 27,
     "metadata": {},
     "output_type": "execute_result"
    }
   ],
   "source": [
    "dados.query(\"NU_IDADE <= 14\")[\"SG_UF_RESIDENCIA\"].value_counts()"
   ]
  },
  {
   "cell_type": "code",
   "execution_count": 28,
   "id": "f1ca2e0e",
   "metadata": {},
   "outputs": [
    {
     "data": {
      "text/plain": [
       "PE    0.124138\n",
       "CE    0.103448\n",
       "BA    0.096552\n",
       "PA    0.082759\n",
       "MG    0.075862\n",
       "SP    0.075862\n",
       "MA    0.062069\n",
       "PI    0.048276\n",
       "GO    0.048276\n",
       "PB    0.048276\n",
       "MT    0.027586\n",
       "AM    0.027586\n",
       "DF    0.027586\n",
       "TO    0.020690\n",
       "SE    0.020690\n",
       "PR    0.020690\n",
       "AL    0.013793\n",
       "RO    0.013793\n",
       "SC    0.013793\n",
       "AP    0.006897\n",
       "RN    0.006897\n",
       "ES    0.006897\n",
       "AC    0.006897\n",
       "RS    0.006897\n",
       "RJ    0.006897\n",
       "MS    0.006897\n",
       "Name: SG_UF_RESIDENCIA, dtype: float64"
      ]
     },
     "execution_count": 28,
     "metadata": {},
     "output_type": "execute_result"
    }
   ],
   "source": [
    "dados.query(\"NU_IDADE <= 14\")[\"SG_UF_RESIDENCIA\"].value_counts(normalize=True)"
   ]
  },
  {
   "cell_type": "code",
   "execution_count": 29,
   "id": "88e243f4",
   "metadata": {},
   "outputs": [
    {
     "data": {
      "text/plain": [
       "<AxesSubplot:ylabel='SG_UF_RESIDENCIA'>"
      ]
     },
     "execution_count": 29,
     "metadata": {},
     "output_type": "execute_result"
    },
    {
     "data": {
      "image/png": "[encoded data removed]",
      "text/plain": [
       "<Figure size 720x576 with 1 Axes>"
      ]
     },
     "metadata": {},
     "output_type": "display_data"
    }
   ],
   "source": [
    "alunos_menor_quartoze = dados.query(\"NU_IDADE <= 14\")\n",
    "alunos_menor_quartoze[\"SG_UF_RESIDENCIA\"].value_counts().plot.pie(figsize=(10,8))  "
   ]
  },
  {
   "cell_type": "code",
   "execution_count": 30,
   "id": "f9642f87",
   "metadata": {},
   "outputs": [
    {
     "data": {
      "text/plain": [
       "<AxesSubplot:>"
      ]
     },
     "execution_count": 30,
     "metadata": {},
     "output_type": "execute_result"
    },
    {
     "data": {
      "image/png": "[encoded data removed]",
      "text/plain": [
       "<Figure size 720x576 with 1 Axes>"
      ]
     },
     "metadata": {
      "needs_background": "light"
     },
     "output_type": "display_data"
    }
   ],
   "source": [
    "alunos_menor_quartoze[\"SG_UF_RESIDENCIA\"].value_counts(normalize = True).plot.bar(figsize=(10,8))"
   ]
  },
  {
   "cell_type": "code",
   "execution_count": 31,
   "id": "059c29d5",
   "metadata": {},
   "outputs": [
    {
     "data": {
      "text/plain": [
       "145"
      ]
     },
     "execution_count": 31,
     "metadata": {},
     "output_type": "execute_result"
    }
   ],
   "source": [
    "len(alunos_menor_quartoze)"
   ]
  },
  {
   "cell_type": "code",
   "execution_count": 49,
   "id": "991d9888",
   "metadata": {},
   "outputs": [
    {
     "data": {
      "text/plain": [
       "Text(0.5, 1.0, 'Boxplot das notas de matemática pela renda')"
      ]
     },
     "execution_count": 49,
     "metadata": {},
     "output_type": "execute_result"
    },
    {
     "data": {
      "image/png": "[encoded data removed]",
      "text/plain": [
       "<Figure size 720x576 with 1 Axes>"
      ]
     },
     "metadata": {
      "needs_background": "light"
     },
     "output_type": "display_data"
    }
   ],
   "source": [
    "import seaborn as sns\n",
    "import matplotlib.pyplot as plt\n",
    "\n",
    "plt.figure(figsize=(10, 8))\n",
    "sns.boxplot(x=\"Q006\", y = \"NU_NOTA_MT\", data = dados)\n",
    "plt.title(\"Boxplot das notas de matemática pela renda\")"
   ]
  },
  {
   "cell_type": "code",
   "execution_count": 50,
   "id": "b862ea06",
   "metadata": {},
   "outputs": [],
   "source": [
    "renda_ordenada = dados[\"Q006\"].unique()\n",
    "renda_ordenada.sort()"
   ]
  },
  {
   "cell_type": "code",
   "execution_count": 51,
   "id": "41762410",
   "metadata": {},
   "outputs": [
    {
     "data": {
      "text/plain": [
       "array(['A', 'B', 'C', 'D', 'E', 'F', 'G', 'H', 'I', 'J', 'K', 'L', 'M',\n",
       "       'N', 'O', 'P', 'Q'], dtype=object)"
      ]
     },
     "execution_count": 51,
     "metadata": {},
     "output_type": "execute_result"
    }
   ],
   "source": [
    "renda_ordenada"
   ]
  },
  {
   "cell_type": "code",
   "execution_count": 52,
   "id": "d77d9a5a",
   "metadata": {},
   "outputs": [
    {
     "data": {
      "text/plain": [
       "Text(0.5, 1.0, 'Boxplot das notas de matemática pela renda')"
      ]
     },
     "execution_count": 52,
     "metadata": {},
     "output_type": "execute_result"
    },
    {
     "data": {
      "image/png": "[encoded data removed]",
      "text/plain": [
       "<Figure size 720x432 with 1 Axes>"
      ]
     },
     "metadata": {
      "needs_background": "light"
     },
     "output_type": "display_data"
    }
   ],
   "source": [
    "plt.figure(figsize=(10, 6))\n",
    "sns.boxplot(x=\"Q006\", y = \"NU_NOTA_MT\", data = dados, order = renda_ordenada)\n",
    "plt.title(\"Boxplot das notas de matemática pela renda\")"
   ]
  },
  {
   "cell_type": "code",
   "execution_count": 53,
   "id": "3f7160ff",
   "metadata": {},
   "outputs": [
    {
     "data": {
      "text/plain": [
       "NU_NOTA_CN          44334986.1\n",
       "NU_NOTA_CH          49743676.1\n",
       "NU_NOTA_MT          48563933.8\n",
       "NU_NOTA_LC          51027844.9\n",
       "NU_NOTA_REDACAO     56038440.0\n",
       "NU_NOTA_TOTAL      249708880.9\n",
       "dtype: float64"
      ]
     },
     "execution_count": 53,
     "metadata": {},
     "output_type": "execute_result"
    }
   ],
   "source": [
    "dados[provas].sum()"
   ]
  },
  {
   "cell_type": "code",
   "execution_count": 54,
   "id": "ce5ab3e1",
   "metadata": {},
   "outputs": [
    {
     "data": {
      "text/html": [
       "<div>\n",
       "<style scoped>\n",
       "    .dataframe tbody tr th:only-of-type {\n",
       "        vertical-align: middle;\n",
       "    }\n",
       "\n",
       "    .dataframe tbody tr th {\n",
       "        vertical-align: top;\n",
       "    }\n",
       "\n",
       "    .dataframe thead th {\n",
       "        text-align: right;\n",
       "    }\n",
       "</style>\n",
       "<table border=\"1\" class=\"dataframe\">\n",
       "  <thead>\n",
       "    <tr style=\"text-align: right;\">\n",
       "      <th></th>\n",
       "      <th>NU_INSCRICAO</th>\n",
       "      <th>NU_ANO</th>\n",
       "      <th>CO_MUNICIPIO_RESIDENCIA</th>\n",
       "      <th>NO_MUNICIPIO_RESIDENCIA</th>\n",
       "      <th>CO_UF_RESIDENCIA</th>\n",
       "      <th>SG_UF_RESIDENCIA</th>\n",
       "      <th>NU_IDADE</th>\n",
       "      <th>TP_SEXO</th>\n",
       "      <th>TP_ESTADO_CIVIL</th>\n",
       "      <th>TP_COR_RACA</th>\n",
       "      <th>...</th>\n",
       "      <th>Q017</th>\n",
       "      <th>Q018</th>\n",
       "      <th>Q019</th>\n",
       "      <th>Q020</th>\n",
       "      <th>Q021</th>\n",
       "      <th>Q022</th>\n",
       "      <th>Q023</th>\n",
       "      <th>Q024</th>\n",
       "      <th>Q025</th>\n",
       "      <th>NU_NOTA_TOTAL</th>\n",
       "    </tr>\n",
       "  </thead>\n",
       "  <tbody>\n",
       "    <tr>\n",
       "      <th>0</th>\n",
       "      <td>190001004661</td>\n",
       "      <td>2019</td>\n",
       "      <td>1506138</td>\n",
       "      <td>Redenção</td>\n",
       "      <td>15</td>\n",
       "      <td>PA</td>\n",
       "      <td>17</td>\n",
       "      <td>M</td>\n",
       "      <td>1</td>\n",
       "      <td>3</td>\n",
       "      <td>...</td>\n",
       "      <td>A</td>\n",
       "      <td>A</td>\n",
       "      <td>A</td>\n",
       "      <td>B</td>\n",
       "      <td>A</td>\n",
       "      <td>C</td>\n",
       "      <td>A</td>\n",
       "      <td>B</td>\n",
       "      <td>B</td>\n",
       "      <td>4577.8</td>\n",
       "    </tr>\n",
       "    <tr>\n",
       "      <th>1</th>\n",
       "      <td>190001004674</td>\n",
       "      <td>2019</td>\n",
       "      <td>1504208</td>\n",
       "      <td>Marabá</td>\n",
       "      <td>15</td>\n",
       "      <td>PA</td>\n",
       "      <td>23</td>\n",
       "      <td>M</td>\n",
       "      <td>1</td>\n",
       "      <td>3</td>\n",
       "      <td>...</td>\n",
       "      <td>A</td>\n",
       "      <td>A</td>\n",
       "      <td>B</td>\n",
       "      <td>A</td>\n",
       "      <td>A</td>\n",
       "      <td>B</td>\n",
       "      <td>A</td>\n",
       "      <td>A</td>\n",
       "      <td>B</td>\n",
       "      <td>2369.2</td>\n",
       "    </tr>\n",
       "    <tr>\n",
       "      <th>2</th>\n",
       "      <td>190001004722</td>\n",
       "      <td>2019</td>\n",
       "      <td>1501402</td>\n",
       "      <td>Belém</td>\n",
       "      <td>15</td>\n",
       "      <td>PA</td>\n",
       "      <td>35</td>\n",
       "      <td>F</td>\n",
       "      <td>2</td>\n",
       "      <td>1</td>\n",
       "      <td>...</td>\n",
       "      <td>A</td>\n",
       "      <td>A</td>\n",
       "      <td>B</td>\n",
       "      <td>A</td>\n",
       "      <td>B</td>\n",
       "      <td>B</td>\n",
       "      <td>A</td>\n",
       "      <td>A</td>\n",
       "      <td>B</td>\n",
       "      <td>4701.0</td>\n",
       "    </tr>\n",
       "    <tr>\n",
       "      <th>3</th>\n",
       "      <td>190001004735</td>\n",
       "      <td>2019</td>\n",
       "      <td>1507300</td>\n",
       "      <td>São Félix do Xingu</td>\n",
       "      <td>15</td>\n",
       "      <td>PA</td>\n",
       "      <td>23</td>\n",
       "      <td>F</td>\n",
       "      <td>1</td>\n",
       "      <td>3</td>\n",
       "      <td>...</td>\n",
       "      <td>A</td>\n",
       "      <td>A</td>\n",
       "      <td>B</td>\n",
       "      <td>A</td>\n",
       "      <td>A</td>\n",
       "      <td>B</td>\n",
       "      <td>A</td>\n",
       "      <td>A</td>\n",
       "      <td>B</td>\n",
       "      <td>5111.4</td>\n",
       "    </tr>\n",
       "    <tr>\n",
       "      <th>4</th>\n",
       "      <td>190001004776</td>\n",
       "      <td>2019</td>\n",
       "      <td>1500800</td>\n",
       "      <td>Ananindeua</td>\n",
       "      <td>15</td>\n",
       "      <td>PA</td>\n",
       "      <td>16</td>\n",
       "      <td>F</td>\n",
       "      <td>1</td>\n",
       "      <td>3</td>\n",
       "      <td>...</td>\n",
       "      <td>A</td>\n",
       "      <td>A</td>\n",
       "      <td>B</td>\n",
       "      <td>A</td>\n",
       "      <td>A</td>\n",
       "      <td>D</td>\n",
       "      <td>A</td>\n",
       "      <td>A</td>\n",
       "      <td>B</td>\n",
       "      <td>5607.0</td>\n",
       "    </tr>\n",
       "  </tbody>\n",
       "</table>\n",
       "<p>5 rows × 137 columns</p>\n",
       "</div>"
      ],
      "text/plain": [
       "   NU_INSCRICAO  NU_ANO  CO_MUNICIPIO_RESIDENCIA NO_MUNICIPIO_RESIDENCIA  \\\n",
       "0  190001004661    2019                  1506138                Redenção   \n",
       "1  190001004674    2019                  1504208                  Marabá   \n",
       "2  190001004722    2019                  1501402                   Belém   \n",
       "3  190001004735    2019                  1507300      São Félix do Xingu   \n",
       "4  190001004776    2019                  1500800              Ananindeua   \n",
       "\n",
       "   CO_UF_RESIDENCIA SG_UF_RESIDENCIA  NU_IDADE TP_SEXO  TP_ESTADO_CIVIL  \\\n",
       "0                15               PA        17       M                1   \n",
       "1                15               PA        23       M                1   \n",
       "2                15               PA        35       F                2   \n",
       "3                15               PA        23       F                1   \n",
       "4                15               PA        16       F                1   \n",
       "\n",
       "   TP_COR_RACA  ...  Q017  Q018 Q019  Q020 Q021  Q022  Q023  Q024  Q025  \\\n",
       "0            3  ...     A     A    A     B    A     C     A     B     B   \n",
       "1            3  ...     A     A    B     A    A     B     A     A     B   \n",
       "2            1  ...     A     A    B     A    B     B     A     A     B   \n",
       "3            3  ...     A     A    B     A    A     B     A     A     B   \n",
       "4            3  ...     A     A    B     A    A     D     A     A     B   \n",
       "\n",
       "   NU_NOTA_TOTAL  \n",
       "0         4577.8  \n",
       "1         2369.2  \n",
       "2         4701.0  \n",
       "3         5111.4  \n",
       "4         5607.0  \n",
       "\n",
       "[5 rows x 137 columns]"
      ]
     },
     "execution_count": 54,
     "metadata": {},
     "output_type": "execute_result"
    }
   ],
   "source": [
    "dados[\"NU_NOTA_TOTAL\"] = dados[provas].sum(axis=1)\n",
    "dados.head()"
   ]
  },
  {
   "cell_type": "code",
   "execution_count": 55,
   "id": "bb720dd6",
   "metadata": {},
   "outputs": [
    {
     "data": {
      "text/plain": [
       "Text(0.5, 1.0, 'Boxplot das notas de total pela renda')"
      ]
     },
     "execution_count": 55,
     "metadata": {},
     "output_type": "execute_result"
    },
    {
     "data": {
      "image/png": "[encoded data removed]",
      "text/plain": [
       "<Figure size 720x432 with 1 Axes>"
      ]
     },
     "metadata": {
      "needs_background": "light"
     },
     "output_type": "display_data"
    }
   ],
   "source": [
    "plt.figure(figsize=(10, 6))\n",
    "sns.boxplot(x=\"Q006\", y = \"NU_NOTA_TOTAL\", data = dados, order = renda_ordenada)\n",
    "plt.title(\"Boxplot das notas de total pela renda\")"
   ]
  },
  {
   "cell_type": "code",
   "execution_count": 56,
   "id": "cb622cb0",
   "metadata": {},
   "outputs": [
    {
     "data": {
      "image/png": "[encoded data removed]",
      "text/plain": [
       "<Figure size 720x432 with 1 Axes>"
      ]
     },
     "metadata": {
      "needs_background": "light"
     },
     "output_type": "display_data"
    }
   ],
   "source": [
    "#desafio03: criar uam função para plotar o boxplot do seaborn\n",
    "def grafico(z, t, u):\n",
    "    plt.figure(figsize=(10, 6))\n",
    "    sns.boxplot(x= z, y = t, data = u, order = renda_ordenada)\n",
    "\n",
    "grafico('Q006', 'NU_NOTA_MT', dados)"
   ]
  },
  {
   "cell_type": "code",
   "execution_count": 57,
   "id": "b23ad8f5",
   "metadata": {},
   "outputs": [
    {
     "data": {
      "text/plain": [
       "<seaborn.axisgrid.FacetGrid at 0x2284e7b8f10>"
      ]
     },
     "execution_count": 57,
     "metadata": {},
     "output_type": "execute_result"
    },
    {
     "data": {
      "image/png": "[encoded data removed]",
      "text/plain": [
       "<Figure size 360x360 with 1 Axes>"
      ]
     },
     "metadata": {
      "needs_background": "light"
     },
     "output_type": "display_data"
    }
   ],
   "source": [
    "sns.displot(dados, x =\"NU_NOTA_TOTAL\")"
   ]
  },
  {
   "cell_type": "code",
   "execution_count": 58,
   "id": "bcf27a44",
   "metadata": {},
   "outputs": [
    {
     "name": "stdout",
     "output_type": "stream",
     "text": [
      "FALTARAM OS DOIS DIAS -  28998\n",
      "FALTARAM O SEGUNDO DIA -  39\n",
      "ELIMINADOS NO PRIMEIRO DIA E ZEROU O SEGUNDO -  120\n",
      "FALTARAM O PRIMEIRO DIA -  3\n",
      "ESTIVERAM PRESENTES NOS DOIS DIAS E ZEROU -  2\n"
     ]
    }
   ],
   "source": [
    "provas = [\"NU_NOTA_CN\",\"NU_NOTA_CH\",\"NU_NOTA_MT\",\"NU_NOTA_LC\",\"NU_NOTA_REDACAO\"]\n",
    "provas.append(\"NU_NOTA_TOTAL\")\n",
    "dados[provas].query(\"NU_NOTA_TOTAL == 0\")\n",
    "\n",
    "\n",
    "#desafio04: verificar se quem zerou a prova foi eliminado ou não estava presente\n",
    "presenca = ['TP_PRESENCA_CN', 'TP_PRESENCA_CH', 'TP_PRESENCA_LC', 'TP_PRESENCA_MT','NU_NOTA_TOTAL']\n",
    "\n",
    "print('FALTARAM OS DOIS DIAS - ', dados.query('TP_PRESENCA_CN == 0   and TP_PRESENCA_CH == 0 and NU_NOTA_TOTAL == 0')[presenca[-1]].value_counts().iloc[0])\n",
    "print('FALTARAM O SEGUNDO DIA - ', dados.query('TP_PRESENCA_CN == 0   and TP_PRESENCA_CH == 1 and NU_NOTA_TOTAL == 0')[presenca[-1]].value_counts().iloc[0])\n",
    "print('ELIMINADOS NO PRIMEIRO DIA E ZEROU O SEGUNDO - ', dados.query('TP_PRESENCA_CN == 0   and TP_PRESENCA_CH == 2 and NU_NOTA_TOTAL == 0')[presenca[-1]].value_counts().iloc[0])\n",
    "print('FALTARAM O PRIMEIRO DIA - ',dados.query('TP_PRESENCA_CN == 1   and TP_PRESENCA_CH == 0 and NU_NOTA_TOTAL == 0')[presenca[-1]].value_counts().iloc[0])\n",
    "print('ESTIVERAM PRESENTES NOS DOIS DIAS E ZEROU - ',dados.query('TP_PRESENCA_CN == 1   and TP_PRESENCA_CH == 1 and NU_NOTA_TOTAL == 0')[presenca[-1]].value_counts().iloc[0])"
   ]
  },
  {
   "cell_type": "code",
   "execution_count": 59,
   "id": "05af79ac",
   "metadata": {},
   "outputs": [
    {
     "name": "stdout",
     "output_type": "stream",
     "text": [
      "[nan]\n",
      "[nan]\n"
     ]
    }
   ],
   "source": [
    "#Desafio05: quem é eliminado tira zero ou NaN\n",
    "print(dados.query('TP_PRESENCA_CN == 2')['NU_NOTA_CN'].unique())\n",
    "print(dados.query('TP_PRESENCA_CH == 2')['NU_NOTA_CH'].unique())"
   ]
  },
  {
   "cell_type": "code",
   "execution_count": 60,
   "id": "9c2eb384",
   "metadata": {},
   "outputs": [
    {
     "data": {
      "text/html": [
       "<div>\n",
       "<style scoped>\n",
       "    .dataframe tbody tr th:only-of-type {\n",
       "        vertical-align: middle;\n",
       "    }\n",
       "\n",
       "    .dataframe tbody tr th {\n",
       "        vertical-align: top;\n",
       "    }\n",
       "\n",
       "    .dataframe thead th {\n",
       "        text-align: right;\n",
       "    }\n",
       "</style>\n",
       "<table border=\"1\" class=\"dataframe\">\n",
       "  <thead>\n",
       "    <tr style=\"text-align: right;\">\n",
       "      <th></th>\n",
       "      <th>NU_INSCRICAO</th>\n",
       "      <th>NU_ANO</th>\n",
       "      <th>CO_MUNICIPIO_RESIDENCIA</th>\n",
       "      <th>NO_MUNICIPIO_RESIDENCIA</th>\n",
       "      <th>CO_UF_RESIDENCIA</th>\n",
       "      <th>SG_UF_RESIDENCIA</th>\n",
       "      <th>NU_IDADE</th>\n",
       "      <th>TP_SEXO</th>\n",
       "      <th>TP_ESTADO_CIVIL</th>\n",
       "      <th>TP_COR_RACA</th>\n",
       "      <th>...</th>\n",
       "      <th>Q017</th>\n",
       "      <th>Q018</th>\n",
       "      <th>Q019</th>\n",
       "      <th>Q020</th>\n",
       "      <th>Q021</th>\n",
       "      <th>Q022</th>\n",
       "      <th>Q023</th>\n",
       "      <th>Q024</th>\n",
       "      <th>Q025</th>\n",
       "      <th>NU_NOTA_TOTAL</th>\n",
       "    </tr>\n",
       "  </thead>\n",
       "  <tbody>\n",
       "    <tr>\n",
       "      <th>0</th>\n",
       "      <td>190001004661</td>\n",
       "      <td>2019</td>\n",
       "      <td>1506138</td>\n",
       "      <td>Redenção</td>\n",
       "      <td>15</td>\n",
       "      <td>PA</td>\n",
       "      <td>17</td>\n",
       "      <td>M</td>\n",
       "      <td>1</td>\n",
       "      <td>3</td>\n",
       "      <td>...</td>\n",
       "      <td>A</td>\n",
       "      <td>A</td>\n",
       "      <td>A</td>\n",
       "      <td>B</td>\n",
       "      <td>A</td>\n",
       "      <td>C</td>\n",
       "      <td>A</td>\n",
       "      <td>B</td>\n",
       "      <td>B</td>\n",
       "      <td>4577.8</td>\n",
       "    </tr>\n",
       "    <tr>\n",
       "      <th>1</th>\n",
       "      <td>190001004674</td>\n",
       "      <td>2019</td>\n",
       "      <td>1504208</td>\n",
       "      <td>Marabá</td>\n",
       "      <td>15</td>\n",
       "      <td>PA</td>\n",
       "      <td>23</td>\n",
       "      <td>M</td>\n",
       "      <td>1</td>\n",
       "      <td>3</td>\n",
       "      <td>...</td>\n",
       "      <td>A</td>\n",
       "      <td>A</td>\n",
       "      <td>B</td>\n",
       "      <td>A</td>\n",
       "      <td>A</td>\n",
       "      <td>B</td>\n",
       "      <td>A</td>\n",
       "      <td>A</td>\n",
       "      <td>B</td>\n",
       "      <td>2369.2</td>\n",
       "    </tr>\n",
       "    <tr>\n",
       "      <th>2</th>\n",
       "      <td>190001004722</td>\n",
       "      <td>2019</td>\n",
       "      <td>1501402</td>\n",
       "      <td>Belém</td>\n",
       "      <td>15</td>\n",
       "      <td>PA</td>\n",
       "      <td>35</td>\n",
       "      <td>F</td>\n",
       "      <td>2</td>\n",
       "      <td>1</td>\n",
       "      <td>...</td>\n",
       "      <td>A</td>\n",
       "      <td>A</td>\n",
       "      <td>B</td>\n",
       "      <td>A</td>\n",
       "      <td>B</td>\n",
       "      <td>B</td>\n",
       "      <td>A</td>\n",
       "      <td>A</td>\n",
       "      <td>B</td>\n",
       "      <td>4701.0</td>\n",
       "    </tr>\n",
       "    <tr>\n",
       "      <th>3</th>\n",
       "      <td>190001004735</td>\n",
       "      <td>2019</td>\n",
       "      <td>1507300</td>\n",
       "      <td>São Félix do Xingu</td>\n",
       "      <td>15</td>\n",
       "      <td>PA</td>\n",
       "      <td>23</td>\n",
       "      <td>F</td>\n",
       "      <td>1</td>\n",
       "      <td>3</td>\n",
       "      <td>...</td>\n",
       "      <td>A</td>\n",
       "      <td>A</td>\n",
       "      <td>B</td>\n",
       "      <td>A</td>\n",
       "      <td>A</td>\n",
       "      <td>B</td>\n",
       "      <td>A</td>\n",
       "      <td>A</td>\n",
       "      <td>B</td>\n",
       "      <td>5111.4</td>\n",
       "    </tr>\n",
       "    <tr>\n",
       "      <th>4</th>\n",
       "      <td>190001004776</td>\n",
       "      <td>2019</td>\n",
       "      <td>1500800</td>\n",
       "      <td>Ananindeua</td>\n",
       "      <td>15</td>\n",
       "      <td>PA</td>\n",
       "      <td>16</td>\n",
       "      <td>F</td>\n",
       "      <td>1</td>\n",
       "      <td>3</td>\n",
       "      <td>...</td>\n",
       "      <td>A</td>\n",
       "      <td>A</td>\n",
       "      <td>B</td>\n",
       "      <td>A</td>\n",
       "      <td>A</td>\n",
       "      <td>D</td>\n",
       "      <td>A</td>\n",
       "      <td>A</td>\n",
       "      <td>B</td>\n",
       "      <td>5607.0</td>\n",
       "    </tr>\n",
       "  </tbody>\n",
       "</table>\n",
       "<p>5 rows × 137 columns</p>\n",
       "</div>"
      ],
      "text/plain": [
       "   NU_INSCRICAO  NU_ANO  CO_MUNICIPIO_RESIDENCIA NO_MUNICIPIO_RESIDENCIA  \\\n",
       "0  190001004661    2019                  1506138                Redenção   \n",
       "1  190001004674    2019                  1504208                  Marabá   \n",
       "2  190001004722    2019                  1501402                   Belém   \n",
       "3  190001004735    2019                  1507300      São Félix do Xingu   \n",
       "4  190001004776    2019                  1500800              Ananindeua   \n",
       "\n",
       "   CO_UF_RESIDENCIA SG_UF_RESIDENCIA  NU_IDADE TP_SEXO  TP_ESTADO_CIVIL  \\\n",
       "0                15               PA        17       M                1   \n",
       "1                15               PA        23       M                1   \n",
       "2                15               PA        35       F                2   \n",
       "3                15               PA        23       F                1   \n",
       "4                15               PA        16       F                1   \n",
       "\n",
       "   TP_COR_RACA  ...  Q017  Q018 Q019  Q020 Q021  Q022  Q023  Q024  Q025  \\\n",
       "0            3  ...     A     A    A     B    A     C     A     B     B   \n",
       "1            3  ...     A     A    B     A    A     B     A     A     B   \n",
       "2            1  ...     A     A    B     A    B     B     A     A     B   \n",
       "3            3  ...     A     A    B     A    A     B     A     A     B   \n",
       "4            3  ...     A     A    B     A    A     D     A     A     B   \n",
       "\n",
       "   NU_NOTA_TOTAL  \n",
       "0         4577.8  \n",
       "1         2369.2  \n",
       "2         4701.0  \n",
       "3         5111.4  \n",
       "4         5607.0  \n",
       "\n",
       "[5 rows x 137 columns]"
      ]
     },
     "execution_count": 60,
     "metadata": {},
     "output_type": "execute_result"
    }
   ],
   "source": [
    "dados_sem_notas_zero = dados.query(\"NU_NOTA_TOTAL != 0\")\n",
    "dados_sem_notas_zero.head()"
   ]
  },
  {
   "cell_type": "code",
   "execution_count": 61,
   "id": "ea2735e6",
   "metadata": {},
   "outputs": [
    {
     "data": {
      "text/plain": [
       "Text(0.5, 1.0, 'Boxplot das notas de total pela renda')"
      ]
     },
     "execution_count": 61,
     "metadata": {},
     "output_type": "execute_result"
    },
    {
     "data": {
      "image/png": "[encoded data removed]",
      "text/plain": [
       "<Figure size 720x432 with 1 Axes>"
      ]
     },
     "metadata": {
      "needs_background": "light"
     },
     "output_type": "display_data"
    }
   ],
   "source": [
    "grafico('Q006', 'NU_NOTA_TOTAL',dados_sem_notas_zero)\n",
    "plt.title(\"Boxplot das notas de total pela renda\")"
   ]
  },
  {
   "cell_type": "code",
   "execution_count": 62,
   "id": "e26ed632",
   "metadata": {},
   "outputs": [
    {
     "data": {
      "text/plain": [
       "Text(0.5, 1.0, 'Boxplot das notas de total pela renda')"
      ]
     },
     "execution_count": 62,
     "metadata": {},
     "output_type": "execute_result"
    },
    {
     "data": {
      "image/png": "[encoded data removed]",
      "text/plain": [
       "<Figure size 1008x576 with 1 Axes>"
      ]
     },
     "metadata": {
      "needs_background": "light"
     },
     "output_type": "display_data"
    }
   ],
   "source": [
    "plt.figure(figsize=(14, 8))\n",
    "sns.boxplot(x=\"Q006\", y = \"NU_NOTA_TOTAL\", data = dados_sem_notas_zero, \n",
    "            hue = \"IN_TREINEIRO\", order = renda_ordenada)\n",
    "plt.title(\"Boxplot das notas de total pela renda\")"
   ]
  },
  {
   "cell_type": "code",
   "execution_count": 63,
   "id": "d89f5e58",
   "metadata": {},
   "outputs": [
    {
     "name": "stdout",
     "output_type": "stream",
     "text": [
      "tem internet  28587\n",
      "não tem internet  98793\n"
     ]
    }
   ],
   "source": [
    "print('tem internet ', dados.query(\"Q025 == 'A'\")['Q025'].value_counts().iloc[0])\n",
    "print('não tem internet ', dados.query(\"Q025 == 'B'\")['Q025'].value_counts().iloc[0])"
   ]
  },
  {
   "cell_type": "code",
   "execution_count": null,
   "id": "e1bd283a",
   "metadata": {},
   "outputs": [],
   "source": [
    "# desafio06 verificar a proporção dos participantes de rendas mais altas e mais baixas como treineiro e não trineiro.\n",
    "# desafio07: fazer o mesmo boxplot para a questão 25(tem internet ou não)\n"
   ]
  },
  {
   "cell_type": "code",
   "execution_count": 76,
   "id": "e32eb49e",
   "metadata": {},
   "outputs": [
    {
     "data": {
      "text/plain": [
       "<AxesSubplot:>"
      ]
     },
     "execution_count": 76,
     "metadata": {},
     "output_type": "execute_result"
    },
    {
     "data": {
      "image/png": "[encoded data removed]",
      "text/plain": [
       "<Figure size 720x576 with 1 Axes>"
      ]
     },
     "metadata": {
      "needs_background": "light"
     },
     "output_type": "display_data"
    }
   ],
   "source": [
    "# desafio06 verificar a proporção dos participantes de rendas mais altas e mais baixas como treineiro e não trineiro.\n",
    "'''\n",
    "    sns.catplot(data=dados_sem_notas_zero, x=\"Q006\", hue = 'IN_TREINEIRO', kind=\"count\", order=renda_ordenada, height=6, aspect=2)\n",
    "    plt.title(\"Gráfico de barras da variável Q006\")\n",
    "    plt.yticks(range(0, 22000, 2000)) # Define os intervalos do eixo y\n",
    "\n",
    "    plt.show()\n",
    "\n",
    "'''\n",
    "\n",
    "dados_nao_treineiros = dados.query('IN_TREINEIRO == 0')['Q006'].value_counts(normalize=True)\n",
    "dados_sim_treineiros = dados.query('IN_TREINEIRO == 1')['Q006'].value_counts(normalize=True)\n",
    "\n",
    "df = pd.DataFrame({'Treineiros': dados_sim_treineiros,\n",
    "                   'Não Treineiros': dados_nao_treineiros})\n",
    "\n",
    "df.plot.bar(figsize=(10,8))"
   ]
  },
  {
   "cell_type": "code",
   "execution_count": 78,
   "id": "7b8b6d64",
   "metadata": {},
   "outputs": [
    {
     "data": {
      "text/plain": [
       "<AxesSubplot:title={'center':'Nota TOTAL pela Renda & Internet'}, xlabel='Q025', ylabel='NU_NOTA_TOTAL'>"
      ]
     },
     "execution_count": 78,
     "metadata": {},
     "output_type": "execute_result"
    },
    {
     "data": {
      "image/png": "[encoded data removed]",
      "text/plain": [
       "<Figure size 1080x576 with 1 Axes>"
      ]
     },
     "metadata": {
      "needs_background": "light"
     },
     "output_type": "display_data"
    }
   ],
   "source": [
    "# desafio07: fazer o mesmo boxplot para a questão 25(tem internet ou não)\n",
    "plt.figure(figsize=(15,8))\n",
    "plt.title(\"Nota TOTAL pela Renda & Internet\")\n",
    "sns.boxplot(x=\"Q025\", y=\"NU_NOTA_TOTAL\", data=dados_sem_notas_zero)\n",
    "\n",
    "# Não possui acesso a internet (A)\n",
    "# Possui acesso a internet (B)"
   ]
  },
  {
   "cell_type": "code",
   "execution_count": 74,
   "id": "b0b39468",
   "metadata": {
    "scrolled": true
   },
   "outputs": [
    {
     "ename": "KeyError",
     "evalue": "-0.4",
     "output_type": "error",
     "traceback": [
      "\u001b[1;31m---------------------------------------------------------------------------\u001b[0m",
      "\u001b[1;31mKeyError\u001b[0m                                  Traceback (most recent call last)",
      "File \u001b[1;32m~\\anaconda3\\lib\\site-packages\\pandas\\core\\indexes\\base.py:3621\u001b[0m, in \u001b[0;36mIndex.get_loc\u001b[1;34m(self, key, method, tolerance)\u001b[0m\n\u001b[0;32m   3620\u001b[0m \u001b[38;5;28;01mtry\u001b[39;00m:\n\u001b[1;32m-> 3621\u001b[0m     \u001b[38;5;28;01mreturn\u001b[39;00m \u001b[38;5;28;43mself\u001b[39;49m\u001b[38;5;241;43m.\u001b[39;49m\u001b[43m_engine\u001b[49m\u001b[38;5;241;43m.\u001b[39;49m\u001b[43mget_loc\u001b[49m\u001b[43m(\u001b[49m\u001b[43mcasted_key\u001b[49m\u001b[43m)\u001b[49m\n\u001b[0;32m   3622\u001b[0m \u001b[38;5;28;01mexcept\u001b[39;00m \u001b[38;5;167;01mKeyError\u001b[39;00m \u001b[38;5;28;01mas\u001b[39;00m err:\n",
      "File \u001b[1;32m~\\anaconda3\\lib\\site-packages\\pandas\\_libs\\index.pyx:136\u001b[0m, in \u001b[0;36mpandas._libs.index.IndexEngine.get_loc\u001b[1;34m()\u001b[0m\n",
      "File \u001b[1;32m~\\anaconda3\\lib\\site-packages\\pandas\\_libs\\index.pyx:163\u001b[0m, in \u001b[0;36mpandas._libs.index.IndexEngine.get_loc\u001b[1;34m()\u001b[0m\n",
      "File \u001b[1;32mpandas\\_libs\\hashtable_class_helper.pxi:5198\u001b[0m, in \u001b[0;36mpandas._libs.hashtable.PyObjectHashTable.get_item\u001b[1;34m()\u001b[0m\n",
      "File \u001b[1;32mpandas\\_libs\\hashtable_class_helper.pxi:5206\u001b[0m, in \u001b[0;36mpandas._libs.hashtable.PyObjectHashTable.get_item\u001b[1;34m()\u001b[0m\n",
      "\u001b[1;31mKeyError\u001b[0m: -0.4",
      "\nThe above exception was the direct cause of the following exception:\n",
      "\u001b[1;31mKeyError\u001b[0m                                  Traceback (most recent call last)",
      "Input \u001b[1;32mIn [74]\u001b[0m, in \u001b[0;36m<cell line: 20>\u001b[1;34m()\u001b[0m\n\u001b[0;32m     24\u001b[0m             valor \u001b[38;5;241m=\u001b[39m proporcao_treineiros[renda] \u001b[38;5;241m*\u001b[39m \u001b[38;5;241m100\u001b[39m\n\u001b[0;32m     25\u001b[0m         \u001b[38;5;28;01melse\u001b[39;00m: \u001b[38;5;66;03m# Se não, é de não treineiros\u001b[39;00m\n\u001b[1;32m---> 26\u001b[0m             valor \u001b[38;5;241m=\u001b[39m (\u001b[38;5;241m1\u001b[39m \u001b[38;5;241m-\u001b[39m \u001b[43mproporcao_treineiros\u001b[49m\u001b[43m[\u001b[49m\u001b[43mrenda\u001b[49m\u001b[43m]\u001b[49m) \u001b[38;5;241m*\u001b[39m \u001b[38;5;241m100\u001b[39m\n\u001b[0;32m     27\u001b[0m         ax\u001b[38;5;241m.\u001b[39mannotate(\u001b[38;5;124mf\u001b[39m\u001b[38;5;124m\"\u001b[39m\u001b[38;5;132;01m{\u001b[39;00mvalor\u001b[38;5;132;01m:\u001b[39;00m\u001b[38;5;124m.2f\u001b[39m\u001b[38;5;132;01m}\u001b[39;00m\u001b[38;5;124m%\u001b[39m\u001b[38;5;124m\"\u001b[39m, (p\u001b[38;5;241m.\u001b[39mget_x() \u001b[38;5;241m+\u001b[39m p\u001b[38;5;241m.\u001b[39mget_width() \u001b[38;5;241m/\u001b[39m \u001b[38;5;241m2\u001b[39m, p\u001b[38;5;241m.\u001b[39mget_height() \u001b[38;5;241m+\u001b[39m \u001b[38;5;241m100\u001b[39m))\n\u001b[0;32m     29\u001b[0m \u001b[38;5;66;03m# Exibe o gráfico\u001b[39;00m\n",
      "File \u001b[1;32m~\\anaconda3\\lib\\site-packages\\pandas\\core\\series.py:958\u001b[0m, in \u001b[0;36mSeries.__getitem__\u001b[1;34m(self, key)\u001b[0m\n\u001b[0;32m    955\u001b[0m     \u001b[38;5;28;01mreturn\u001b[39;00m \u001b[38;5;28mself\u001b[39m\u001b[38;5;241m.\u001b[39m_values[key]\n\u001b[0;32m    957\u001b[0m \u001b[38;5;28;01melif\u001b[39;00m key_is_scalar:\n\u001b[1;32m--> 958\u001b[0m     \u001b[38;5;28;01mreturn\u001b[39;00m \u001b[38;5;28;43mself\u001b[39;49m\u001b[38;5;241;43m.\u001b[39;49m\u001b[43m_get_value\u001b[49m\u001b[43m(\u001b[49m\u001b[43mkey\u001b[49m\u001b[43m)\u001b[49m\n\u001b[0;32m    960\u001b[0m \u001b[38;5;28;01mif\u001b[39;00m is_hashable(key):\n\u001b[0;32m    961\u001b[0m     \u001b[38;5;66;03m# Otherwise index.get_value will raise InvalidIndexError\u001b[39;00m\n\u001b[0;32m    962\u001b[0m     \u001b[38;5;28;01mtry\u001b[39;00m:\n\u001b[0;32m    963\u001b[0m         \u001b[38;5;66;03m# For labels that don't resolve as scalars like tuples and frozensets\u001b[39;00m\n",
      "File \u001b[1;32m~\\anaconda3\\lib\\site-packages\\pandas\\core\\series.py:1069\u001b[0m, in \u001b[0;36mSeries._get_value\u001b[1;34m(self, label, takeable)\u001b[0m\n\u001b[0;32m   1066\u001b[0m     \u001b[38;5;28;01mreturn\u001b[39;00m \u001b[38;5;28mself\u001b[39m\u001b[38;5;241m.\u001b[39m_values[label]\n\u001b[0;32m   1068\u001b[0m \u001b[38;5;66;03m# Similar to Index.get_value, but we do not fall back to positional\u001b[39;00m\n\u001b[1;32m-> 1069\u001b[0m loc \u001b[38;5;241m=\u001b[39m \u001b[38;5;28;43mself\u001b[39;49m\u001b[38;5;241;43m.\u001b[39;49m\u001b[43mindex\u001b[49m\u001b[38;5;241;43m.\u001b[39;49m\u001b[43mget_loc\u001b[49m\u001b[43m(\u001b[49m\u001b[43mlabel\u001b[49m\u001b[43m)\u001b[49m\n\u001b[0;32m   1070\u001b[0m \u001b[38;5;28;01mreturn\u001b[39;00m \u001b[38;5;28mself\u001b[39m\u001b[38;5;241m.\u001b[39mindex\u001b[38;5;241m.\u001b[39m_get_values_for_loc(\u001b[38;5;28mself\u001b[39m, loc, label)\n",
      "File \u001b[1;32m~\\anaconda3\\lib\\site-packages\\pandas\\core\\indexes\\base.py:3623\u001b[0m, in \u001b[0;36mIndex.get_loc\u001b[1;34m(self, key, method, tolerance)\u001b[0m\n\u001b[0;32m   3621\u001b[0m     \u001b[38;5;28;01mreturn\u001b[39;00m \u001b[38;5;28mself\u001b[39m\u001b[38;5;241m.\u001b[39m_engine\u001b[38;5;241m.\u001b[39mget_loc(casted_key)\n\u001b[0;32m   3622\u001b[0m \u001b[38;5;28;01mexcept\u001b[39;00m \u001b[38;5;167;01mKeyError\u001b[39;00m \u001b[38;5;28;01mas\u001b[39;00m err:\n\u001b[1;32m-> 3623\u001b[0m     \u001b[38;5;28;01mraise\u001b[39;00m \u001b[38;5;167;01mKeyError\u001b[39;00m(key) \u001b[38;5;28;01mfrom\u001b[39;00m \u001b[38;5;21;01merr\u001b[39;00m\n\u001b[0;32m   3624\u001b[0m \u001b[38;5;28;01mexcept\u001b[39;00m \u001b[38;5;167;01mTypeError\u001b[39;00m:\n\u001b[0;32m   3625\u001b[0m     \u001b[38;5;66;03m# If we have a listlike key, _check_indexing_error will raise\u001b[39;00m\n\u001b[0;32m   3626\u001b[0m     \u001b[38;5;66;03m#  InvalidIndexError. Otherwise we fall through and re-raise\u001b[39;00m\n\u001b[0;32m   3627\u001b[0m     \u001b[38;5;66;03m#  the TypeError.\u001b[39;00m\n\u001b[0;32m   3628\u001b[0m     \u001b[38;5;28mself\u001b[39m\u001b[38;5;241m.\u001b[39m_check_indexing_error(key)\n",
      "\u001b[1;31mKeyError\u001b[0m: -0.4"
     ]
    },
    {
     "data": {
      "image/png": "[encoded data removed]",
      "text/plain": [
       "<Figure size 432x288 with 1 Axes>"
      ]
     },
     "metadata": {
      "needs_background": "light"
     },
     "output_type": "display_data"
    }
   ],
   "source": [
    "\n"
   ]
  },
  {
   "cell_type": "code",
   "execution_count": null,
   "id": "de921ebb",
   "metadata": {},
   "outputs": [],
   "source": []
  }
 ],
 "metadata": {
  "kernelspec": {
   "display_name": "Python 3 (ipykernel)",
   "language": "python",
   "name": "python3"
  },
  "language_info": {
   "codemirror_mode": {
    "name": "ipython",
    "version": 3
   },
   "file_extension": ".py",
   "mimetype": "text/x-python",
   "name": "python",
   "nbconvert_exporter": "python",
   "pygments_lexer": "ipython3",
   "version": "3.9.12"
  }
 },
 "nbformat": 4,
 "nbformat_minor": 5
}
